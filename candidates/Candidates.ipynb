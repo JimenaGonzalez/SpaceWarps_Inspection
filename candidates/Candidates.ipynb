{
 "cells": [
  {
   "cell_type": "code",
   "execution_count": 1,
   "id": "99d902e9",
   "metadata": {},
   "outputs": [],
   "source": [
    "import numpy as np\n",
    "import pandas as pd\n",
    "\n",
    "import random\n",
    "import os\n",
    "from astropy.io import fits\n",
    "from astropy.table import Table\n",
    "\n",
    "import matplotlib.pyplot as plt\n",
    "\n",
    "from astropy.visualization import make_lupton_rgb\n",
    "plt.style.use('dark_background')"
   ]
  },
  {
   "cell_type": "code",
   "execution_count": 2,
   "id": "84b538e5",
   "metadata": {},
   "outputs": [],
   "source": [
    "def make_plot_all(objects, title, data, column_name):\n",
    "    #print(title)\n",
    "    for i in range(len(objects)):\n",
    "        if(i%6 == 0):\n",
    "            plt.figure(figsize=(16,9))\n",
    "            for j in range(6):\n",
    "                if(i+j > len(objects)-1): break\n",
    "                plt.subplot(1,6,j+1)\n",
    "                print(data['COADD_OBJECT_ID'].iloc[i+j])\n",
    "                new_title = 'Prob: {:.4f}'.format(data[column_name].iloc[i+j])\n",
    "                plt.title(new_title)\n",
    "                rgb = make_lupton_rgb(objects[i+j][2], objects[i+j][1], objects[i+j][0], Q=11., stretch=40.)\n",
    "                rgb = np.flipud(rgb)\n",
    "                plt.imshow(rgb, aspect='equal')\n",
    "                plt.xticks([], [])\n",
    "                plt.yticks([], []) \n",
    "            plt.show()"
   ]
  },
  {
   "cell_type": "code",
   "execution_count": 3,
   "id": "23c45d2d",
   "metadata": {},
   "outputs": [
    {
     "name": "stdout",
     "output_type": "stream",
     "text": [
      "Num. single candidates:  20653\n",
      "20639 20639\n"
     ]
    }
   ],
   "source": [
    "filepath = '/Users/jimenagonzalez/research/DSPL/Searching-double-lenses/vit_cnn_multiclass/results/data/'\n",
    "hdu_list = fits.open(filepath + 'Unique_positives_complete_fixed.fits')\n",
    "print('Num. single candidates: ', len(hdu_list[1].data))\n",
    "images_sing = hdu_list[1].data\n",
    "images_sing = images_sing[:,0:3,:,:]\n",
    "data_sing = pd.DataFrame(hdu_list[2].data)\n",
    "hdu_list.close()\n",
    "\n",
    "to_remove = pd.read_csv('single_remove.csv')\n",
    "mask = data_sing['COADD_OBJECT_ID'].isin(to_remove['COADD_OBJECT_ID'])\n",
    "data_sing = data_sing.drop(data_sing[mask].index)\n",
    "data_sing = data_sing.drop_duplicates()\n",
    "images_sing = images_sing[data_sing.index]\n",
    "data_sing = data_sing.reset_index(drop=True)\n",
    "\n",
    "print(len(images_sing), len(data_sing))"
   ]
  },
  {
   "cell_type": "code",
   "execution_count": 4,
   "id": "645be6a4",
   "metadata": {
    "scrolled": true
   },
   "outputs": [
    {
     "name": "stdout",
     "output_type": "stream",
     "text": [
      "Num. double candidates:  2540\n",
      "2538 2538\n"
     ]
    }
   ],
   "source": [
    "filepath = '/Users/jimenagonzalez/research/DSPL/Searching-double-lenses/vit_cnn_multiclass_double/results/'\n",
    "hdu_list = fits.open(filepath + 'Unique_double_complete_fixed.fits')\n",
    "print('Num. double candidates: ', len(hdu_list[1].data))\n",
    "images_doub = hdu_list[1].data\n",
    "images_doub = images_doub[:,0:3,:,:]\n",
    "data_doub = pd.DataFrame(hdu_list[2].data)\n",
    "hdu_list.close()\n",
    "\n",
    "to_remove = pd.read_csv('double_remove.csv')\n",
    "mask = data_doub['COADD_OBJECT_ID'].isin(to_remove['COADD_OBJECT_ID'])\n",
    "data_doub = data_doub.drop(data_doub[mask].index)\n",
    "data_doub = data_doub.drop_duplicates()\n",
    "images_doub = images_doub[data_doub.index]\n",
    "data_doub = data_doub.reset_index(drop=True)\n",
    "\n",
    "print(len(images_doub), len(data_doub))"
   ]
  },
  {
   "cell_type": "code",
   "execution_count": 5,
   "id": "5f767026",
   "metadata": {
    "scrolled": true
   },
   "outputs": [
    {
     "name": "stderr",
     "output_type": "stream",
     "text": [
      "/Users/jimenagonzalez/Software/miniconda3/lib/python3.7/site-packages/ipykernel_launcher.py:7: UserWarning: Boolean Series key will be reindexed to match DataFrame index.\n",
      "  import sys\n",
      "/Users/jimenagonzalez/Software/miniconda3/lib/python3.7/site-packages/ipykernel_launcher.py:12: UserWarning: Boolean Series key will be reindexed to match DataFrame index.\n",
      "  if sys.path[0] == \"\":\n"
     ]
    },
    {
     "name": "stdout",
     "output_type": "stream",
     "text": [
      "613 610\n"
     ]
    }
   ],
   "source": [
    "size = 0.0032\n",
    "counter = 0\n",
    "data_tmp_doub, data_tmp_sing = pd.DataFrame(columns=data_doub.columns), pd.DataFrame(columns=data_sing.columns)\n",
    "\n",
    "for i in range(len(data_doub)):\n",
    "    ra, dec = data_doub['RA'].iloc[i], data_doub['DEC'].iloc[i]\n",
    "    data_neighbors = data_sing[data_sing['RA'] > ra - size][data_sing['RA'] < ra + size][data_sing['DEC'] > dec - size][data_sing['DEC'] < dec + size]\n",
    "    if(len(data_neighbors) > 0):\n",
    "        counter += 1\n",
    "        for (index, row) in data_neighbors.iterrows():\n",
    "            ra_tmp, dec_tmp = row['RA'], row['DEC']\n",
    "            new_data = data_sing[data_sing['RA'] > ra_tmp - size][data_sing['RA'] < ra_tmp + size][data_sing['DEC'] > dec_tmp - size][data_sing['DEC'] < dec_tmp + size]\n",
    "            data_neighbors = pd.concat([data_neighbors, new_data])\n",
    "            \n",
    "        data_neighbors = data_neighbors.drop_duplicates()\n",
    "        data_tmp_sing = data_tmp_sing.append(data_neighbors)\n",
    "        data_tmp_doub = data_tmp_doub.append(data_doub.iloc[i])\n",
    "        \n",
    "        #make_plot_all([images_doub[i]], 'title', data_doub.iloc[i])\n",
    "        #make_plot_all(images_sing[data_neighbors.index], 'title', data_neighbors)\n",
    "        \n",
    "data_tmp_sing = data_tmp_sing.drop_duplicates() #Single candidates also in double candidates\n",
    "data_tmp_doub = data_tmp_doub.drop_duplicates() #Double candidates in single candidates, may not the same exact image\n",
    "\n",
    "print(len(data_tmp_sing), len(data_tmp_doub))"
   ]
  },
  {
   "cell_type": "code",
   "execution_count": 6,
   "id": "b2e98736",
   "metadata": {},
   "outputs": [
    {
     "name": "stdout",
     "output_type": "stream",
     "text": [
      "613 610 492\n"
     ]
    }
   ],
   "source": [
    "images_tmp_doub = images_doub[data_tmp_doub.index] #Images of double in intersection\n",
    "images_tmp_sing = images_sing[data_tmp_sing.index] #Images of single in intersection\n",
    "\n",
    "data_sing = data_sing.drop(data_tmp_sing.index)\n",
    "images_sing = images_sing[data_sing.index] #Images of single candidates, none in intersection\n",
    "data_sing = data_sing.reset_index(drop=True)\n",
    "\n",
    "data_doub = data_doub.drop(data_tmp_doub.index)\n",
    "images_doub = images_doub[data_doub.index] #Images of double candidates, none in intersection\n",
    "data_doub = data_doub.reset_index(drop=True)\n",
    "\n",
    "data_tmp_doub, data_tmp_sing = data_tmp_doub.reset_index(drop=True), data_tmp_sing.reset_index(drop=True)\n",
    "data_tmp_doub = data_tmp_doub.rename(columns = {'PROB': 'PROB_DOUB'})\n",
    "data_tmp_sing = data_tmp_sing.rename(columns = {'PROB': 'PROB_SING'})\n",
    "\n",
    "mask = data_tmp_sing['COADD_OBJECT_ID'].isin(data_tmp_doub['COADD_OBJECT_ID'])\n",
    "test = data_tmp_sing[mask]\n",
    "print(len(data_tmp_sing), len(data_tmp_doub), len(test))"
   ]
  },
  {
   "cell_type": "code",
   "execution_count": 7,
   "id": "cd333768",
   "metadata": {
    "scrolled": true
   },
   "outputs": [
    {
     "name": "stderr",
     "output_type": "stream",
     "text": [
      "/Users/jimenagonzalez/Software/miniconda3/lib/python3.7/site-packages/ipykernel_launcher.py:15: UserWarning: Boolean Series key will be reindexed to match DataFrame index.\n",
      "  from ipykernel import kernelapp as app\n",
      "/Users/jimenagonzalez/Software/miniconda3/lib/python3.7/site-packages/ipykernel_launcher.py:19: UserWarning: Boolean Series key will be reindexed to match DataFrame index.\n",
      "/Users/jimenagonzalez/Software/miniconda3/lib/python3.7/site-packages/pandas/core/series.py:1056: SettingWithCopyWarning: \n",
      "A value is trying to be set on a copy of a slice from a DataFrame\n",
      "\n",
      "See the caveats in the documentation: https://pandas.pydata.org/pandas-docs/stable/user_guide/indexing.html#returning-a-view-versus-a-copy\n",
      "  cacher_needs_updating = self._check_is_chained_assignment_possible()\n",
      "/Users/jimenagonzalez/Software/miniconda3/lib/python3.7/site-packages/pandas/core/indexing.py:1724: SettingWithCopyWarning: \n",
      "A value is trying to be set on a copy of a slice from a DataFrame\n",
      "\n",
      "See the caveats in the documentation: https://pandas.pydata.org/pandas-docs/stable/user_guide/indexing.html#returning-a-view-versus-a-copy\n",
      "  self._setitem_with_indexer_missing(indexer, value)\n"
     ]
    },
    {
     "name": "stdout",
     "output_type": "stream",
     "text": [
      "610 610\n"
     ]
    }
   ],
   "source": [
    "#Working space\n",
    "numpix = 45\n",
    "columns = list(data_tmp_sing.columns)\n",
    "columns.append('PROB_DOUB')\n",
    "inter_data = pd.DataFrame(columns = columns)\n",
    "inter_images = np.zeros((1,3,numpix,numpix))\n",
    "\n",
    "sing_save, doub_save = pd.read_csv('inter_single_save.csv'), pd.read_csv('inter_double_save.csv')\n",
    "sing_add, doub_special = pd.read_csv('inter_single_save_additional.csv'), pd.read_csv('inter_special.csv')\n",
    "sing_save = sing_save.append(sing_add)\n",
    "doub_save = doub_save.append(doub_special)\n",
    "\n",
    "for i in range(len(data_tmp_doub)):\n",
    "    ra, dec = data_tmp_doub['RA'].iloc[i], data_tmp_doub['DEC'].iloc[i]\n",
    "    data_neighbors = data_tmp_sing[data_tmp_sing['RA'] > ra - size][data_tmp_sing['RA'] < ra + size][data_tmp_sing['DEC'] > dec - size][data_tmp_sing['DEC'] < dec + size]\n",
    "    \n",
    "    for (index, row) in data_neighbors.iterrows():\n",
    "        ra_tmp, dec_tmp = row['RA'], row['DEC']\n",
    "        new_data = data_tmp_sing[data_tmp_sing['RA'] > ra_tmp - size][data_tmp_sing['RA'] < ra_tmp + size][data_tmp_sing['DEC'] > dec_tmp - size][data_tmp_sing['DEC'] < dec_tmp + size]\n",
    "        data_neighbors = pd.concat([data_neighbors, new_data])\n",
    "    data_neighbors = data_neighbors.drop_duplicates()\n",
    "        \n",
    "    if(len(data_neighbors) == 1 and data_tmp_doub['COADD_OBJECT_ID'].iloc[i] == data_neighbors['COADD_OBJECT_ID'].iloc[0]):\n",
    "        #Saving the systems that are overlapped with the same ID\n",
    "        tmp_row = data_tmp_doub.iloc[i]\n",
    "        tmp_row['PROB_SING'] = data_neighbors['PROB_SING'].iloc[0]\n",
    "        inter_data = inter_data.append(tmp_row)\n",
    "        inter_images = np.append(inter_images, [images_tmp_doub[i]], axis = 0)\n",
    "        #make_plot_all([images_tmp_doub[i]], 'title', pd.DataFrame(data_tmp_doub.iloc[i]).T)\n",
    "        #make_plot_all(images_tmp_sing[data_neighbors.index], 'title', data_neighbors)\n",
    "    else:\n",
    "        #Saving systems that don't have the same image and/or have more than one neighbor\n",
    "        if(len(doub_save[doub_save['COADD_OBJECT_ID'] == data_tmp_doub['COADD_OBJECT_ID'].iloc[i]]) > 0):\n",
    "            tmp_row = data_tmp_doub.iloc[i]\n",
    "            for j in range(len(data_neighbors)):\n",
    "                if(j > 0): continue\n",
    "                tmp_row['PROB_SING'] = data_neighbors['PROB_SING'].iloc[j]\n",
    "                inter_images = np.append(inter_images, [images_tmp_doub[i]], axis = 0)\n",
    "                inter_data = inter_data.append(tmp_row)\n",
    "            #if(len(data_neighbors) > 1):  \n",
    "            #    make_plot_all([images_tmp_sing[data_neighbors.iloc[j].name]], 'title', pd.DataFrame(data_neighbors.iloc[j]).T, 'PROB_SING')\n",
    "            #    make_plot_all([images_tmp_doub[i]], 'title', pd.DataFrame(data_tmp_doub.iloc[i]).T, 'PROB_DOUB')\n",
    "                \n",
    "        mask = data_neighbors['COADD_OBJECT_ID'].isin(sing_save['COADD_OBJECT_ID'])\n",
    "        sing_save_tmp = data_neighbors[mask]\n",
    "        for j in range(len(sing_save_tmp)):\n",
    "            tmp_row = sing_save_tmp.iloc[j]\n",
    "            tmp_row['PROB_DOUB'] = data_tmp_doub['PROB_DOUB'].iloc[i]\n",
    "            inter_images = np.append(inter_images, [images_tmp_sing[sing_save_tmp.iloc[j].name]], axis = 0)\n",
    "            inter_data = inter_data.append(tmp_row)\n",
    "        \n",
    "inter_images = np.delete(inter_images, 0, axis = 0)\n",
    "inter_data = inter_data.reset_index(drop=True)\n",
    "inter_data = inter_data.drop_duplicates()\n",
    "inter_data = inter_data.drop([422], axis=0)\n",
    "inter_images = inter_images[inter_data.index]\n",
    "inter_data = inter_data.reset_index(drop=True)\n",
    "\n",
    "print(len(inter_data), len(inter_images))"
   ]
  },
  {
   "cell_type": "code",
   "execution_count": 8,
   "id": "3d7d8bd0",
   "metadata": {
    "scrolled": false
   },
   "outputs": [],
   "source": [
    "def write_fit_file(name, x, data, inter):\n",
    "    my_types = {'COADD_OBJECT_ID': int, 'TILENAME': str, 'HPIX_16384': int, 'HPIX_4096': int,\n",
    "       'DNF_ZMEAN_SOF': float, 'RA': float, 'DEC': float, 'FLUX_RADIUS_G': float, 'FLUX_RADIUS_R': float,\n",
    "       'FLUX_RADIUS_I': float, 'FLUX_RADIUS_Z': float, 'KRON_RADIUS': float, 'GAP_FLUX_G': float,\n",
    "       'MOF_BDF_FLUX_G': float, 'MOF_PSF_FLUX_G': float, 'SOF_BDF_FLUX_G': float, 'SOF_PSF_FLUX_G': float,\n",
    "       'MAG_AUTO_G': float, 'MAG_APER_4_G': float, 'MAG_APER_8_G': float, 'SOF_BDF_G_1': float,\n",
    "       'SOF_BDF_G_2': float, 'IMAFLAGS_ISO_G': int, 'IMAFLAGS_ISO_R': int, 'IMAFLAGS_ISO_I': int,\n",
    "       'IMAFLAGS_ISO_Z': int, 'EXT_COADD': int}\n",
    "    if(inter):\n",
    "        tmp_types = {'PROB_SING': float, 'PROB_DOUB': float}\n",
    "        my_types.update(tmp_types)\n",
    "    else:\n",
    "        tmp_types = {'PROB': float}\n",
    "        my_types.update(tmp_types)\n",
    "    data = data.astype(my_types)\n",
    "    \n",
    "    primary = fits.PrimaryHDU()\n",
    "    image = fits.ImageHDU(x, name=\"IMAGE\")\n",
    "    table_data = Table.from_pandas(data)\n",
    "    table = fits.BinTableHDU(data = table_data)\n",
    "    hdu_list = fits.HDUList([primary, image, table])\n",
    "    hdu_list.writeto(file_path + name + '.fits', overwrite=True)   \n",
    "    hdu_list.close()"
   ]
  },
  {
   "cell_type": "code",
   "execution_count": 9,
   "id": "cfd34e6d",
   "metadata": {},
   "outputs": [],
   "source": [
    "file_path = 'fit_files/'\n",
    "\n",
    "write_fit_file('single', images_sing, data_sing, False)\n",
    "write_fit_file('double', images_doub, data_doub, False)\n",
    "write_fit_file('inter', inter_images, inter_data, True)"
   ]
  }
 ],
 "metadata": {
  "kernelspec": {
   "display_name": "Python 3 (ipykernel)",
   "language": "python",
   "name": "python3"
  },
  "language_info": {
   "codemirror_mode": {
    "name": "ipython",
    "version": 3
   },
   "file_extension": ".py",
   "mimetype": "text/x-python",
   "name": "python",
   "nbconvert_exporter": "python",
   "pygments_lexer": "ipython3",
   "version": "3.7.13"
  }
 },
 "nbformat": 4,
 "nbformat_minor": 5
}
