{
 "cells": [
  {
   "cell_type": "code",
   "execution_count": 1,
   "id": "b77d414a",
   "metadata": {},
   "outputs": [],
   "source": [
    "script = False\n",
    "\n",
    "import pandas as pd\n",
    "import numpy as np\n",
    "import random\n",
    "import os\n",
    "\n",
    "from astropy.io import fits\n",
    "from astropy.table import Table\n",
    "\n",
    "import matplotlib.pyplot as plt\n",
    "from astropy.visualization import make_lupton_rgb\n",
    "plt.style.use('dark_background')\n",
    "\n",
    "if(script):\n",
    "    from tqdm import tqdm\n",
    "else: \n",
    "    from tqdm.notebook import tqdm"
   ]
  },
  {
   "cell_type": "code",
   "execution_count": 2,
   "id": "2b0ef727",
   "metadata": {},
   "outputs": [],
   "source": [
    "def make_one_plot(objects, title, data, Q, stretch, minimum):\n",
    "    plt.figure(figsize=(4,4))\n",
    "    rgb = make_lupton_rgb(objects[2], objects[1], objects[0], Q=Q, stretch=stretch, minimum=minimum)\n",
    "    rgb = np.flipud(rgb)\n",
    "    \n",
    "    plt.imshow(rgb, aspect='equal')\n",
    "    plt.xticks([], [])\n",
    "    plt.yticks([], []) \n",
    "    plt.savefig(png_path + title, bbox_inches='tight')\n",
    "    #plt.show()\n",
    "    plt.close()\n",
    "    \n",
    "def make_one_plot_brit(objects, title, data):\n",
    "    plt.figure(figsize=(4,4))\n",
    "    \n",
    "    imager = 0.0005*objects[2] \n",
    "    imageg = 3*objects[1] \n",
    "    imageb = 15*objects[0] \n",
    "    rgb = np.array([imager, imageg, imageb])\n",
    "    #Making sure values are lower or equal to 255\n",
    "    rgb = np.clip(rgb, 0, 255).astype(np.uint8)\n",
    "    rgb = rgb.transpose(1, 2, 0)\n",
    "    #Increasing contrast\n",
    "    min_img, max_img = np.min(rgb), np.max(rgb)     \n",
    "    LUT=np.zeros(256,dtype=np.uint8)\n",
    "    LUT[min_img:max_img+1]=np.linspace(start=0,stop=255,num=(max_img-min_img)+1,endpoint=True,dtype=np.uint8)\n",
    "    rgb = LUT[rgb]\n",
    "    rgb = np.flipud(rgb)\n",
    "                \n",
    "    plt.imshow(rgb, aspect='equal')\n",
    "    plt.xticks([], [])\n",
    "    plt.yticks([], []) \n",
    "    \n",
    "    plt.savefig(png_path + title, bbox_inches='tight')\n",
    "    #plt.show()\n",
    "    plt.close()"
   ]
  },
  {
   "cell_type": "code",
   "execution_count": 3,
   "id": "d03bab4f",
   "metadata": {},
   "outputs": [
    {
     "name": "stdout",
     "output_type": "stream",
     "text": [
      "20026 20026\n"
     ]
    }
   ],
   "source": [
    "N = 1000\n",
    "filepath = 'fit_files/' + 'single.fits'\n",
    "hdu_list = fits.open(filepath)\n",
    "images = hdu_list[1].data#.data[0:N]\n",
    "data = pd.DataFrame(hdu_list[2].data)#.iloc[0:N]\n",
    "hdu_list.close()\n",
    "\n",
    "print(len(images), len(data))"
   ]
  },
  {
   "cell_type": "code",
   "execution_count": 4,
   "id": "d52f2576",
   "metadata": {},
   "outputs": [],
   "source": [
    "data['#subject_id'] = range(0, len(data))\n",
    "data['#NEW_ID'] = range(0, len(data))\n",
    "data['#image_name_1'] = data['#NEW_ID'].apply(lambda x: f'pngs/sing_{x}_1.png')\n",
    "data['#image_name_2'] = data['#NEW_ID'].apply(lambda x: f'pngs/sing_{x}_2.png')\n",
    "data['#image_name_3'] = data['#NEW_ID'].apply(lambda x: f'pngs/sing_{x}_3.png')\n",
    "data['#image_name_4'] = data['#NEW_ID'].apply(lambda x: f'pngs/sing_{x}_4.png')\n",
    "data['!Subject Type'] = ['Test Subject']*len(data)\n",
    "data['#Type'] = ['SUB']*len(data)\n",
    "data['#SubType'] = ['SUB']*len(data)\n",
    "data['#Provenance'] = ['DES-VT-JG']*len(data)\n",
    "data['Colours'] = ['gri']*len(data)\n",
    "data['Size-in-arcsec'] = ['12']*len(data)\n",
    "data['#CLASS'] = ['single_cand']*len(data)\n",
    "data['#REPORTED'] = [False]*len(data)\n",
    "data['#REF'] = [None]*len(data)\n",
    "data['!Previously published lens candidate?'] = ['No']*len(data)"
   ]
  },
  {
   "cell_type": "code",
   "execution_count": 5,
   "id": "c8fe52f1",
   "metadata": {},
   "outputs": [
    {
     "name": "stderr",
     "output_type": "stream",
     "text": [
      "/Users/jimenagonzalez/Software/miniconda3/lib/python3.7/site-packages/ipykernel_launcher.py:9: UserWarning: Boolean Series key will be reindexed to match DataFrame index.\n",
      "  if __name__ == \"__main__\":\n",
      "/Users/jimenagonzalez/Software/miniconda3/lib/python3.7/site-packages/pandas/core/indexing.py:1732: SettingWithCopyWarning: \n",
      "A value is trying to be set on a copy of a slice from a DataFrame\n",
      "\n",
      "See the caveats in the documentation: https://pandas.pydata.org/pandas-docs/stable/user_guide/indexing.html#returning-a-view-versus-a-copy\n",
      "  self._setitem_single_block(indexer, value, name)\n"
     ]
    },
    {
     "name": "stdout",
     "output_type": "stream",
     "text": [
      "Already reported:  1351\n"
     ]
    }
   ],
   "source": [
    "#Adding columns for when they have been reported previously and the reference\n",
    "filepath = '/Users/jimenagonzalez/research/DSPL/Searching-double-lenses/vit_cnn_multiclass/results/data/'\n",
    "known_data = pd.read_csv(filepath + 'SLED_lens_database.csv')\n",
    "size = 0.0032\n",
    "counter = 0\n",
    "\n",
    "for i in range(len(data)):\n",
    "    ra, dec = data['RA'].iloc[i], data['DEC'].iloc[i]\n",
    "    data_tmp = known_data[known_data['ra'] > ra - size][known_data['ra'] < ra + size][known_data['dec'] > dec - size][known_data['dec'] < dec + size]\n",
    "    if(len(data_tmp) > 0):\n",
    "        counter += 1\n",
    "        data['#REPORTED'].iloc[i] = True\n",
    "        data['#REF'].iloc[i] = data_tmp['bibcode'].iloc[0]\n",
    "        data['!Previously published lens candidate?'].iloc[i] = 'Yes, it is listed in a published paper, but may be a high or low probability candidate'\n",
    "        \n",
    "print('Already reported: ', counter)"
   ]
  },
  {
   "cell_type": "code",
   "execution_count": 6,
   "id": "c63c4c6a",
   "metadata": {},
   "outputs": [
    {
     "name": "stdout",
     "output_type": "stream",
     "text": [
      "Index(['#subject_id', '#NEW_ID', '#image_name_1', '#image_name_2',\n",
      "       '#image_name_3', '#image_name_4', '!Subject Type', '#Type', '#SubType',\n",
      "       '#Provenance', 'Colours', 'Size-in-arcsec', '#CLASS', '#REPORTED',\n",
      "       '#REF', '!Previously published lens candidate?'],\n",
      "      dtype='object')\n",
      "Index(['COADD_OBJECT_ID', 'TILENAME', 'PROB', 'HPIX_16384', 'HPIX_4096',\n",
      "       'DNF_ZMEAN_SOF', 'RA', 'DEC', 'FLUX_RADIUS_G', 'FLUX_RADIUS_R',\n",
      "       'FLUX_RADIUS_I', 'FLUX_RADIUS_Z', 'KRON_RADIUS', 'GAP_FLUX_G',\n",
      "       'MOF_BDF_FLUX_G', 'MOF_PSF_FLUX_G', 'SOF_BDF_FLUX_G', 'SOF_PSF_FLUX_G',\n",
      "       'MAG_AUTO_G', 'MAG_APER_4_G', 'MAG_APER_8_G', 'SOF_BDF_G_1',\n",
      "       'SOF_BDF_G_2', 'IMAFLAGS_ISO_G', 'IMAFLAGS_ISO_R', 'IMAFLAGS_ISO_I',\n",
      "       'IMAFLAGS_ISO_Z', 'EXT_COADD', '#subject_id', '#NEW_ID',\n",
      "       '#image_name_1', '#image_name_2', '#image_name_3', '#image_name_4',\n",
      "       '!Subject Type', '#Type', '#SubType', '#Provenance', 'Colours',\n",
      "       'Size-in-arcsec', '#CLASS', '#REPORTED', '#REF',\n",
      "       '!Previously published lens candidate?'],\n",
      "      dtype='object')\n"
     ]
    }
   ],
   "source": [
    "col_drop = ['COADD_OBJECT_ID', 'TILENAME', 'PROB', 'HPIX_16384', 'HPIX_4096', 'DNF_ZMEAN_SOF', 'RA', 'DEC', \n",
    "        'FLUX_RADIUS_G', 'FLUX_RADIUS_R', 'FLUX_RADIUS_I', 'FLUX_RADIUS_Z', 'KRON_RADIUS', 'GAP_FLUX_G',\n",
    "       'MOF_BDF_FLUX_G', 'MOF_PSF_FLUX_G', 'SOF_BDF_FLUX_G', 'SOF_PSF_FLUX_G', 'MAG_AUTO_G', 'MAG_APER_4_G', \n",
    "        'MAG_APER_8_G', 'SOF_BDF_G_1','SOF_BDF_G_2', 'IMAFLAGS_ISO_G', 'IMAFLAGS_ISO_R', 'IMAFLAGS_ISO_I',\n",
    "       'IMAFLAGS_ISO_Z', 'EXT_COADD']\n",
    "new_data = data.drop(col_drop, axis=1)\n",
    "\n",
    "path = 'to_upload/single/'\n",
    "data.to_csv(path + 'complete_manifest.csv', index=False)\n",
    "new_data.to_csv(path + 'manifest.csv', index=False)\n",
    "\n",
    "print(new_data.columns)\n",
    "print(data.columns)"
   ]
  },
  {
   "cell_type": "code",
   "execution_count": 7,
   "id": "b7d092d0",
   "metadata": {},
   "outputs": [
    {
     "name": "stdout",
     "output_type": "stream",
     "text": [
      "Columns unique to df1: {'#REF', '#image_name_4', '#subject_id', '#REPORTED'}\n",
      "Columns unique to df2: {'subject_id', '#Lens-candidate', '#KNOWN_LENS_REF', '#PROB'}\n"
     ]
    }
   ],
   "source": [
    "filepath = '/Users/jimenagonzalez/research/DSPL/SpaceWarps_Inspection/initial/for_test/results/'\n",
    "to_compare = pd.read_csv(filepath + 'Manifest_DES-VT-BetaTest.csv')\n",
    "\n",
    "df1, df2 = new_data, to_compare\n",
    "columns_in_df1_only = set(df1.columns) - set(df2.columns)\n",
    "columns_in_df2_only = set(df2.columns) - set(df1.columns)\n",
    "\n",
    "print(\"Columns unique to df1:\", columns_in_df1_only)\n",
    "print(\"Columns unique to df2:\", columns_in_df2_only)"
   ]
  },
  {
   "cell_type": "code",
   "execution_count": 9,
   "id": "b5ffaa4e",
   "metadata": {
    "scrolled": true
   },
   "outputs": [
    {
     "data": {
      "application/vnd.jupyter.widget-view+json": {
       "model_id": "a03f393241cb49bcada2c94794ea2d3e",
       "version_major": 2,
       "version_minor": 0
      },
      "text/plain": [
       "  0%|          | 0/20026 [00:00<?, ?it/s]"
      ]
     },
     "metadata": {},
     "output_type": "display_data"
    }
   ],
   "source": [
    "png_path = 'to_upload/single/'\n",
    "\n",
    "for i in tqdm(range(len(data))):\n",
    "    if(i == 5): break\n",
    "    path_exists = png_path + data['#image_name_4'].iloc[i]\n",
    "    if(os.path.exists(path_exists)):\n",
    "        continue\n",
    "    make_one_plot(images[i], data['#image_name_1'].iloc[i], data.iloc[i], 9, 60, (0,0,0)) # new first filter\n",
    "    make_one_plot(images[i], data['#image_name_2'].iloc[i], data.iloc[i], 8, 40, (14,2,0)) # new second filter\n",
    "    make_one_plot(images[i], data['#image_name_3'].iloc[i], data.iloc[i], 10, 37, (12,6,0)) # new third filter\n",
    "    make_one_plot_brit(images[i], data['#image_name_4'].iloc[i], data.iloc[i])"
   ]
  }
 ],
 "metadata": {
  "kernelspec": {
   "display_name": "Python 3 (ipykernel)",
   "language": "python",
   "name": "python3"
  },
  "language_info": {
   "codemirror_mode": {
    "name": "ipython",
    "version": 3
   },
   "file_extension": ".py",
   "mimetype": "text/x-python",
   "name": "python",
   "nbconvert_exporter": "python",
   "pygments_lexer": "ipython3",
   "version": "3.7.13"
  }
 },
 "nbformat": 4,
 "nbformat_minor": 5
}
