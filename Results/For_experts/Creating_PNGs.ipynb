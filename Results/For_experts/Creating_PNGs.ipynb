{
 "cells": [
  {
   "cell_type": "code",
   "execution_count": 1,
   "id": "4caf34c9",
   "metadata": {},
   "outputs": [],
   "source": [
    "import numpy as np\n",
    "import pandas as pd\n",
    "\n",
    "from astropy.io import fits\n",
    "from astropy.table import Table\n",
    "\n",
    "import matplotlib.pyplot as plt\n",
    "import matplotlib.pylab as pylab\n",
    "\n",
    "from tqdm.notebook import tqdm\n",
    "from astropy.visualization import make_lupton_rgb\n",
    "plt.style.use('dark_background')"
   ]
  },
  {
   "cell_type": "code",
   "execution_count": 2,
   "id": "dd15e81b",
   "metadata": {},
   "outputs": [],
   "source": [
    "def write_fit_file(name, x, data):\n",
    "    my_types = {'COADD_OBJECT_ID': int, 'TILENAME': str, 'PROB': float, 'HPIX_16384': int, 'HPIX_4096': int,\n",
    "       'DNF_ZMEAN_SOF': float, 'RA': float, 'DEC': float, 'FLUX_RADIUS_G': float, 'FLUX_RADIUS_R': float,\n",
    "       'FLUX_RADIUS_I': float, 'FLUX_RADIUS_Z': float, 'KRON_RADIUS': float, 'GAP_FLUX_G': float,\n",
    "       'MOF_BDF_FLUX_G': float, 'MOF_PSF_FLUX_G': float, 'SOF_BDF_FLUX_G': float, 'SOF_PSF_FLUX_G': float,\n",
    "       'MAG_AUTO_G': float, 'MAG_APER_4_G': float, 'MAG_APER_8_G': float, 'SOF_BDF_G_1': float,\n",
    "       'SOF_BDF_G_2': float, 'IMAFLAGS_ISO_G': int, 'IMAFLAGS_ISO_R': int, 'IMAFLAGS_ISO_I': int,\n",
    "       'IMAFLAGS_ISO_Z': int, 'EXT_COADD': int, 'NEW_ID': int, 'CLASS': str, 'REPORTED': bool,\n",
    "       'SUBJECT_ID': int, 'SCORE': float, 'PROB_SING': float, 'PROB_DOUB': float}\n",
    "    \n",
    "    data = data.astype(my_types)\n",
    "    \n",
    "    primary = fits.PrimaryHDU()\n",
    "    image = fits.ImageHDU(x, name=\"IMAGE\")\n",
    "    table_data = Table.from_pandas(data)\n",
    "    table = fits.BinTableHDU(data = table_data)\n",
    "    hdu_list = fits.HDUList([primary, image, table])\n",
    "    hdu_list.writeto(filepath + name + '.fits', overwrite=True)   \n",
    "    hdu_list.close()"
   ]
  },
  {
   "cell_type": "code",
   "execution_count": 3,
   "id": "a28ec9de",
   "metadata": {},
   "outputs": [
    {
     "name": "stdout",
     "output_type": "stream",
     "text": [
      "2502\n"
     ]
    }
   ],
   "source": [
    "filepath = '/Users/jimenagonzalez/research/DSPL/SpaceWarps_Inspection/Results/fits_files/'\n",
    "\n",
    "hdu_list = fits.open(filepath + 'all_subjects.fits')\n",
    "images = hdu_list[1].data\n",
    "data = pd.DataFrame(hdu_list[2].data)\n",
    "hdu_list.close()\n",
    "\n",
    "data_tmp = data[data['SCORE'] > 0.00001]\n",
    "images_tmp = images[data_tmp.index]\n",
    "print(len(data_tmp))\n",
    "\n",
    "write_fit_file('candidates_experts', images_tmp, data_tmp)"
   ]
  },
  {
   "cell_type": "code",
   "execution_count": 4,
   "id": "d3eb19f8",
   "metadata": {},
   "outputs": [],
   "source": [
    "def make_one_png(objects, title, data):\n",
    "    Q_list, stre_list = [9, 8, 10.5], [42, 35, 37]\n",
    "    min_list = [(0, 0, 0), (14, 2, 0), (14, 8, 0)]\n",
    "    \n",
    "    plt.figure(figsize=(5.4,5.4))\n",
    "    for i in range(3):\n",
    "        plt.subplot(2,2,i+1)        \n",
    "        #plt.title(title)\n",
    "        #print(data['COADD_OBJECT_ID'].iloc[i+j]) \n",
    "        rgb = make_lupton_rgb(objects[2], objects[1], objects[0], \n",
    "                            Q=Q_list[i], stretch=stre_list[i], minimum=min_list[i])\n",
    "        rgb = np.flipud(rgb)\n",
    "        plt.imshow(rgb, aspect='equal')\n",
    "        plt.xticks([], [])\n",
    "        plt.yticks([], []) \n",
    "        \n",
    "    #bluest    \n",
    "    plt.subplot(2,2,4)        \n",
    "    imager = 0.0005*objects[2] \n",
    "    imageg = 3*objects[1] \n",
    "    imageb = 15*objects[0] \n",
    "    rgb = np.array([imager, imageg, imageb])\n",
    "    #Making sure values are lower or equal to 255\n",
    "    rgb = np.clip(rgb, 0, 255).astype(np.uint8)\n",
    "    rgb = rgb.transpose(1, 2, 0)\n",
    "    #Increasing contrast\n",
    "    min_img, max_img = np.min(rgb), np.max(rgb)     \n",
    "    LUT=np.zeros(256,dtype=np.uint8)\n",
    "    LUT[min_img:max_img+1]=np.linspace(start=0,stop=255,num=(max_img-min_img)+1,endpoint=True,dtype=np.uint8)\n",
    "    rgb = LUT[rgb]\n",
    "    rgb = np.flipud(rgb)\n",
    "    \n",
    "    plt.imshow(rgb, aspect='equal')\n",
    "    plt.xticks([], [])\n",
    "    plt.yticks([], []) \n",
    "    \n",
    "    plt.savefig(png_filepath + title + '.png', bbox_inches='tight')\n",
    "    #plt.show() \n",
    "    plt.close()"
   ]
  },
  {
   "cell_type": "code",
   "execution_count": 5,
   "id": "3733282a",
   "metadata": {
    "scrolled": true
   },
   "outputs": [
    {
     "name": "stdout",
     "output_type": "stream",
     "text": [
      "2502\n",
      "116\n",
      "500\n",
      "3106 3106\n"
     ]
    }
   ],
   "source": [
    "# Candidates above threshold\n",
    "hdu_list = fits.open(filepath + 'candidates_experts.fits')\n",
    "images_cand = hdu_list[1].data\n",
    "data_cand = pd.DataFrame(hdu_list[2].data)\n",
    "hdu_list.close()\n",
    "print(len(data_cand))\n",
    "\n",
    "# Additional candidates\n",
    "hdu_list = fits.open(filepath + 'additional.fits')\n",
    "images_addi = hdu_list[1].data\n",
    "data_addi = pd.DataFrame(hdu_list[2].data)\n",
    "hdu_list.close()\n",
    "print(len(data_addi))\n",
    "\n",
    "# Random candidates below the threshold\n",
    "hdu_list = fits.open(filepath + 'random.fits')\n",
    "images_rand = hdu_list[1].data\n",
    "data_rand = pd.DataFrame(hdu_list[2].data)\n",
    "hdu_list.close()\n",
    "print(len(data_rand))\n",
    "\n",
    "images = np.concatenate((images_cand, images_addi, images_rand)).astype(np.float32)\n",
    "data = pd.concat([data_cand, data_addi, data_rand], axis=0).reset_index(drop=True)\n",
    "data = data.drop_duplicates() #removing duplicates\n",
    "data = data.sample(frac=1, random_state=42) #random order\n",
    "\n",
    "images = images[data.index]\n",
    "data = data.reset_index(drop=True)\n",
    "\n",
    "print(len(images), len(data))"
   ]
  },
  {
   "cell_type": "code",
   "execution_count": 6,
   "id": "4aff6eb9",
   "metadata": {
    "scrolled": true
   },
   "outputs": [
    {
     "data": {
      "application/vnd.jupyter.widget-view+json": {
       "model_id": "909cc0136b8e4c279af87609ce66262c",
       "version_major": 2,
       "version_minor": 0
      },
      "text/plain": [
       "  0%|          | 0/3106 [00:00<?, ?it/s]"
      ]
     },
     "metadata": {},
     "output_type": "display_data"
    }
   ],
   "source": [
    "png_filepath = '/Users/jimenagonzalez/research/DSPL/SpaceWarps_Inspection/Results/For_experts/images/'\n",
    "file_path = \"File_list\"\n",
    "\n",
    "with open(file_path, 'w') as file:\n",
    "    for i in tqdm(range(len(data))):\n",
    "        title = str(data['SUBJECT_ID'].iloc[i]) \n",
    "        make_one_png(images[i], title, data.iloc[i])\n",
    "        file.write(f\"{title}.png\\n\")"
   ]
  }
 ],
 "metadata": {
  "kernelspec": {
   "display_name": "Python 3 (ipykernel)",
   "language": "python",
   "name": "python3"
  },
  "language_info": {
   "codemirror_mode": {
    "name": "ipython",
    "version": 3
   },
   "file_extension": ".py",
   "mimetype": "text/x-python",
   "name": "python",
   "nbconvert_exporter": "python",
   "pygments_lexer": "ipython3",
   "version": "3.7.13"
  }
 },
 "nbformat": 4,
 "nbformat_minor": 5
}
