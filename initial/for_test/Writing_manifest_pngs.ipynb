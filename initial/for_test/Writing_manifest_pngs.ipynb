{
 "cells": [
  {
   "cell_type": "code",
   "execution_count": 1,
   "id": "b2de1fba",
   "metadata": {},
   "outputs": [],
   "source": [
    "import pandas as pd\n",
    "import numpy as np\n",
    "import random\n",
    "\n",
    "from astropy.io import fits\n",
    "from astropy.table import Table\n",
    "\n",
    "import matplotlib.pyplot as plt\n",
    "from astropy.visualization import make_lupton_rgb\n",
    "plt.style.use('dark_background')"
   ]
  },
  {
   "cell_type": "code",
   "execution_count": 2,
   "id": "73e8e065",
   "metadata": {},
   "outputs": [],
   "source": [
    "def make_one_plot(objects, title, data, Q, stretch, minimum):\n",
    "    plt.figure(figsize=(4,4))\n",
    "    rgb = make_lupton_rgb(objects[2], objects[1], objects[0], Q=Q, stretch=stretch, minimum=minimum)\n",
    "    plt.imshow(rgb, aspect='equal')\n",
    "    plt.xticks([], [])\n",
    "    plt.yticks([], []) \n",
    "    #plt.savefig(png_path + title, bbox_inches='tight')\n",
    "    #plt.show()\n",
    "    plt.close()"
   ]
  },
  {
   "cell_type": "code",
   "execution_count": 3,
   "id": "9a34d42b",
   "metadata": {},
   "outputs": [
    {
     "name": "stdout",
     "output_type": "stream",
     "text": [
      "200 200\n"
     ]
    }
   ],
   "source": [
    "hdu_list = fits.open('for_test.fits')\n",
    "images = hdu_list[1].data\n",
    "data = pd.DataFrame(hdu_list[2].data)\n",
    "hdu_list.close()\n",
    "\n",
    "print(len(images), len(data))"
   ]
  },
  {
   "cell_type": "code",
   "execution_count": 4,
   "id": "6bba5a6a",
   "metadata": {},
   "outputs": [
    {
     "data": {
      "text/html": [
       "<div>\n",
       "<style scoped>\n",
       "    .dataframe tbody tr th:only-of-type {\n",
       "        vertical-align: middle;\n",
       "    }\n",
       "\n",
       "    .dataframe tbody tr th {\n",
       "        vertical-align: top;\n",
       "    }\n",
       "\n",
       "    .dataframe thead th {\n",
       "        text-align: right;\n",
       "    }\n",
       "</style>\n",
       "<table border=\"1\" class=\"dataframe\">\n",
       "  <thead>\n",
       "    <tr style=\"text-align: right;\">\n",
       "      <th></th>\n",
       "      <th>COADD_OBJECT_ID</th>\n",
       "      <th>PROB</th>\n",
       "      <th>RA</th>\n",
       "      <th>DEC</th>\n",
       "      <th>IMAGE_NAME_1</th>\n",
       "      <th>IMAGE_NAME_2</th>\n",
       "      <th>IMAGE_NAME_3</th>\n",
       "      <th>CLASS</th>\n",
       "    </tr>\n",
       "  </thead>\n",
       "  <tbody>\n",
       "    <tr>\n",
       "      <th>0</th>\n",
       "      <td>1013200489</td>\n",
       "      <td>0.834140</td>\n",
       "      <td>353.219770</td>\n",
       "      <td>-55.359401</td>\n",
       "      <td>sing_1013200489_1.png</td>\n",
       "      <td>sing_1013200489_2.png</td>\n",
       "      <td>sing_1013200489_3.png</td>\n",
       "      <td>single_cand</td>\n",
       "    </tr>\n",
       "    <tr>\n",
       "      <th>1</th>\n",
       "      <td>1518557701</td>\n",
       "      <td>0.999889</td>\n",
       "      <td>74.393065</td>\n",
       "      <td>-39.887525</td>\n",
       "      <td>sing_1518557701_1.png</td>\n",
       "      <td>sing_1518557701_2.png</td>\n",
       "      <td>sing_1518557701_3.png</td>\n",
       "      <td>single_cand</td>\n",
       "    </tr>\n",
       "    <tr>\n",
       "      <th>2</th>\n",
       "      <td>1514145972</td>\n",
       "      <td>0.753741</td>\n",
       "      <td>73.340447</td>\n",
       "      <td>-33.437315</td>\n",
       "      <td>sing_1514145972_1.png</td>\n",
       "      <td>sing_1514145972_2.png</td>\n",
       "      <td>sing_1514145972_3.png</td>\n",
       "      <td>single_cand</td>\n",
       "    </tr>\n",
       "    <tr>\n",
       "      <th>3</th>\n",
       "      <td>1234021619</td>\n",
       "      <td>0.756972</td>\n",
       "      <td>31.328631</td>\n",
       "      <td>4.136070</td>\n",
       "      <td>sing_1234021619_1.png</td>\n",
       "      <td>sing_1234021619_2.png</td>\n",
       "      <td>sing_1234021619_3.png</td>\n",
       "      <td>single_cand</td>\n",
       "    </tr>\n",
       "    <tr>\n",
       "      <th>4</th>\n",
       "      <td>1094847947</td>\n",
       "      <td>0.805007</td>\n",
       "      <td>11.135388</td>\n",
       "      <td>-4.554064</td>\n",
       "      <td>sing_1094847947_1.png</td>\n",
       "      <td>sing_1094847947_2.png</td>\n",
       "      <td>sing_1094847947_3.png</td>\n",
       "      <td>single_cand</td>\n",
       "    </tr>\n",
       "  </tbody>\n",
       "</table>\n",
       "</div>"
      ],
      "text/plain": [
       "   COADD_OBJECT_ID      PROB          RA        DEC           IMAGE_NAME_1  \\\n",
       "0       1013200489  0.834140  353.219770 -55.359401  sing_1013200489_1.png   \n",
       "1       1518557701  0.999889   74.393065 -39.887525  sing_1518557701_1.png   \n",
       "2       1514145972  0.753741   73.340447 -33.437315  sing_1514145972_1.png   \n",
       "3       1234021619  0.756972   31.328631   4.136070  sing_1234021619_1.png   \n",
       "4       1094847947  0.805007   11.135388  -4.554064  sing_1094847947_1.png   \n",
       "\n",
       "            IMAGE_NAME_2           IMAGE_NAME_3        CLASS  \n",
       "0  sing_1013200489_2.png  sing_1013200489_3.png  single_cand  \n",
       "1  sing_1518557701_2.png  sing_1518557701_3.png  single_cand  \n",
       "2  sing_1514145972_2.png  sing_1514145972_3.png  single_cand  \n",
       "3  sing_1234021619_2.png  sing_1234021619_3.png  single_cand  \n",
       "4  sing_1094847947_2.png  sing_1094847947_3.png  single_cand  "
      ]
     },
     "execution_count": 4,
     "metadata": {},
     "output_type": "execute_result"
    }
   ],
   "source": [
    "data['IMAGE_NAME_1'] = data['COADD_OBJECT_ID'].apply(lambda x: f'sing_{x}_1.png')\n",
    "data['IMAGE_NAME_2'] = data['COADD_OBJECT_ID'].apply(lambda x: f'sing_{x}_2.png')\n",
    "data['IMAGE_NAME_3'] = data['COADD_OBJECT_ID'].apply(lambda x: f'sing_{x}_3.png')\n",
    "data['CLASS'] = ['single_cand']*len(data)\n",
    "new_data = data.drop(['TILENAME', 'HPIX_16384', 'HPIX_4096',\n",
    "       'DNF_ZMEAN_SOF', 'FLUX_RADIUS_G', 'FLUX_RADIUS_R',\n",
    "       'FLUX_RADIUS_I', 'FLUX_RADIUS_Z', 'KRON_RADIUS', 'GAP_FLUX_G',\n",
    "       'MOF_BDF_FLUX_G', 'MOF_PSF_FLUX_G', 'SOF_BDF_FLUX_G', 'SOF_PSF_FLUX_G',\n",
    "       'MAG_AUTO_G', 'MAG_APER_4_G', 'MAG_APER_8_G', 'SOF_BDF_G_1',\n",
    "       'SOF_BDF_G_2', 'IMAFLAGS_ISO_G', 'IMAFLAGS_ISO_R', 'IMAFLAGS_ISO_I',\n",
    "       'IMAFLAGS_ISO_Z', 'EXT_COADD'], axis=1)\n",
    "new_data.to_csv('manifest_test.csv')\n",
    "new_data.head()"
   ]
  },
  {
   "cell_type": "code",
   "execution_count": 5,
   "id": "51e40b75",
   "metadata": {},
   "outputs": [],
   "source": [
    "png_path = 'pngs/'\n",
    "\n",
    "for i in range(len(data)):\n",
    "    title = 'sing_' + str(data['COADD_OBJECT_ID'].iloc[i]) + '_'\n",
    "    #print(title)\n",
    "    make_one_plot(images[i], title + '1.png', data.iloc[i], 9, 42, (0, 0, 0)) # new first filter\n",
    "    make_one_plot(images[i], title + '2.png', data.iloc[i], 8, 35, (14, 2, 0)) # new second filter\n",
    "    make_one_plot(images[i], title + '3.png', data.iloc[i], 10.5, 37, (14, 8, 0)) # new third filter"
   ]
  }
 ],
 "metadata": {
  "kernelspec": {
   "display_name": "Python 3 (ipykernel)",
   "language": "python",
   "name": "python3"
  },
  "language_info": {
   "codemirror_mode": {
    "name": "ipython",
    "version": 3
   },
   "file_extension": ".py",
   "mimetype": "text/x-python",
   "name": "python",
   "nbconvert_exporter": "python",
   "pygments_lexer": "ipython3",
   "version": "3.7.13"
  }
 },
 "nbformat": 4,
 "nbformat_minor": 5
}
