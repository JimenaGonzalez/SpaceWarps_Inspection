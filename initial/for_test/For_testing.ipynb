{
 "cells": [
  {
   "cell_type": "code",
   "execution_count": 1,
   "id": "1c1af5ee",
   "metadata": {},
   "outputs": [],
   "source": [
    "import pandas as pd\n",
    "import numpy as np\n",
    "import random\n",
    "\n",
    "from astropy.io import fits\n",
    "from astropy.table import Table\n",
    "\n",
    "import matplotlib.pyplot as plt\n",
    "from astropy.visualization import make_lupton_rgb\n",
    "plt.style.use('dark_background')"
   ]
  },
  {
   "cell_type": "code",
   "execution_count": 2,
   "id": "925ebc4a",
   "metadata": {},
   "outputs": [],
   "source": [
    "def make_one_plot(objects, title, data, Q, stretch, minimum):\n",
    "    #print(title)\n",
    "    plt.figure(figsize=(4,4))\n",
    "    rgb = make_lupton_rgb(objects[2], objects[1], objects[0], Q=Q, stretch=stretch, minimum=minimum)\n",
    "    plt.imshow(rgb, aspect='equal')\n",
    "    plt.xticks([], [])\n",
    "    plt.yticks([], []) \n",
    "    plt.savefig(png_path + title, bbox_inches='tight')\n",
    "    plt.show()"
   ]
  },
  {
   "cell_type": "code",
   "execution_count": 3,
   "id": "a59a4b89",
   "metadata": {},
   "outputs": [],
   "source": [
    "def write_fit_file(name, x, data):\n",
    "    my_types = {'COADD_OBJECT_ID': int, 'TILENAME': str, 'PROB': float, 'HPIX_16384': int, 'HPIX_4096': int,\n",
    "       'DNF_ZMEAN_SOF': float, 'RA': float, 'DEC': float, 'FLUX_RADIUS_G': float, 'FLUX_RADIUS_R': float,\n",
    "       'FLUX_RADIUS_I': float, 'FLUX_RADIUS_Z': float, 'KRON_RADIUS': float, 'GAP_FLUX_G': float,\n",
    "       'MOF_BDF_FLUX_G': float, 'MOF_PSF_FLUX_G': float, 'SOF_BDF_FLUX_G': float, 'SOF_PSF_FLUX_G': float,\n",
    "       'MAG_AUTO_G': float, 'MAG_APER_4_G': float, 'MAG_APER_8_G': float, 'SOF_BDF_G_1': float,\n",
    "       'SOF_BDF_G_2': float, 'IMAFLAGS_ISO_G': int, 'IMAFLAGS_ISO_R': int, 'IMAFLAGS_ISO_I': int,\n",
    "       'IMAFLAGS_ISO_Z': int, 'EXT_COADD': int}\n",
    "    data = data.astype(my_types)\n",
    "    \n",
    "    primary = fits.PrimaryHDU()\n",
    "    image = fits.ImageHDU(x, name=\"IMAGE\")\n",
    "    table_data = Table.from_pandas(data)\n",
    "    table = fits.BinTableHDU(data = table_data)\n",
    "    hdu_list = fits.HDUList([primary, image, table])\n",
    "    hdu_list.writeto(name + '.fits', overwrite=True)   \n",
    "    hdu_list.close()"
   ]
  },
  {
   "cell_type": "code",
   "execution_count": 4,
   "id": "990a0848",
   "metadata": {},
   "outputs": [
    {
     "name": "stdout",
     "output_type": "stream",
     "text": [
      "20653 20653\n"
     ]
    }
   ],
   "source": [
    "filepath = '/Users/jimenagonzalez/research/DSPL/Searching-double-lenses/vit_cnn_multiclass/results/data/'\n",
    "\n",
    "hdu_list = fits.open(filepath + 'Unique_positives_complete_fixed.fits')\n",
    "images = hdu_list[1].data\n",
    "data = pd.DataFrame(hdu_list[2].data)\n",
    "hdu_list.close()\n",
    "\n",
    "print(len(images), len(data))"
   ]
  },
  {
   "cell_type": "code",
   "execution_count": 5,
   "id": "84724187",
   "metadata": {},
   "outputs": [
    {
     "name": "stdout",
     "output_type": "stream",
     "text": [
      "500 500\n"
     ]
    }
   ],
   "source": [
    "filepath = '/Users/jimenagonzalez/research/DSPL/Searching-double-lenses/vit_cnn_multiclass/results/data/'\n",
    "\n",
    "hdu_list = fits.open(filepath + 'Unique_positives_complete_fixed.fits')\n",
    "idx = random.sample(range(len(hdu_list[1].data)), 500)\n",
    "images = hdu_list[1].data[idx,:] \n",
    "data = pd.DataFrame(hdu_list[2].data[:][idx])\n",
    "hdu_list.close()\n",
    "\n",
    "print(len(images), len(data))"
   ]
  },
  {
   "cell_type": "code",
   "execution_count": 6,
   "id": "c6609bf8",
   "metadata": {},
   "outputs": [
    {
     "data": {
      "text/plain": [
       "Index(['COADD_OBJECT_ID', 'TILENAME', 'PROB', 'HPIX_16384', 'HPIX_4096',\n",
       "       'DNF_ZMEAN_SOF', 'RA', 'DEC', 'FLUX_RADIUS_G', 'FLUX_RADIUS_R',\n",
       "       'FLUX_RADIUS_I', 'FLUX_RADIUS_Z', 'KRON_RADIUS', 'GAP_FLUX_G',\n",
       "       'MOF_BDF_FLUX_G', 'MOF_PSF_FLUX_G', 'SOF_BDF_FLUX_G', 'SOF_PSF_FLUX_G',\n",
       "       'MAG_AUTO_G', 'MAG_APER_4_G', 'MAG_APER_8_G', 'SOF_BDF_G_1',\n",
       "       'SOF_BDF_G_2', 'IMAFLAGS_ISO_G', 'IMAFLAGS_ISO_R', 'IMAFLAGS_ISO_I',\n",
       "       'IMAFLAGS_ISO_Z', 'EXT_COADD'],\n",
       "      dtype='object')"
      ]
     },
     "execution_count": 6,
     "metadata": {},
     "output_type": "execute_result"
    }
   ],
   "source": [
    "data.columns"
   ]
  },
  {
   "cell_type": "code",
   "execution_count": 7,
   "id": "7579c070",
   "metadata": {},
   "outputs": [],
   "source": [
    "write_fit_file('for_test', images, data)"
   ]
  }
 ],
 "metadata": {
  "kernelspec": {
   "display_name": "Python 3 (ipykernel)",
   "language": "python",
   "name": "python3"
  },
  "language_info": {
   "codemirror_mode": {
    "name": "ipython",
    "version": 3
   },
   "file_extension": ".py",
   "mimetype": "text/x-python",
   "name": "python",
   "nbconvert_exporter": "python",
   "pygments_lexer": "ipython3",
   "version": "3.7.13"
  }
 },
 "nbformat": 4,
 "nbformat_minor": 5
}
