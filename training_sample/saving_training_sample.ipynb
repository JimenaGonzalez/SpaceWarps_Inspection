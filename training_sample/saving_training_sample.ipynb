{
 "cells": [
  {
   "cell_type": "code",
   "execution_count": 1,
   "id": "672a7101",
   "metadata": {},
   "outputs": [],
   "source": [
    "import numpy as np\n",
    "import pandas as pd\n",
    "\n",
    "import torchvision.transforms as transforms\n",
    "from torch.utils.data import Dataset, DataLoader\n",
    "import timm\n",
    "\n",
    "import random\n",
    "import os\n",
    "from astropy.io import fits\n",
    "from astropy.table import Table\n",
    "\n",
    "import matplotlib.pyplot as plt\n",
    "from astropy.visualization import make_lupton_rgb\n",
    "plt.style.use('dark_background')"
   ]
  },
  {
   "cell_type": "code",
   "execution_count": 2,
   "id": "ead7459d",
   "metadata": {},
   "outputs": [],
   "source": [
    "def make_plot_all(objects, data, Q, stretch, minimum):\n",
    "    for i in range(len(objects)):\n",
    "        if(i%8 == 0):\n",
    "            plt.figure(figsize=(16,9))\n",
    "            for j in range(8):\n",
    "                if(i+j > len(objects)-1): break\n",
    "                plt.subplot(1,8,j+1)\n",
    "                #print(data['new_id'].iloc[i+j])\n",
    "                title = data['new_id'].iloc[i+j]\n",
    "                plt.title(title)\n",
    "                rgb = make_lupton_rgb(objects[i+j][2], objects[i+j][1], objects[i+j][0], \n",
    "                                    Q=Q, stretch=stretch, minimum=minimum)\n",
    "                plt.imshow(rgb, aspect='equal')\n",
    "                plt.xticks([], [])\n",
    "                plt.yticks([], []) \n",
    "            plt.show()"
   ]
  },
  {
   "cell_type": "code",
   "execution_count": 3,
   "id": "27271956",
   "metadata": {},
   "outputs": [],
   "source": [
    "def write_fit_file(name, x, data):\n",
    "    my_types = {'new_id': int, 'class': str}\n",
    "    data = data.astype(my_types)\n",
    "    \n",
    "    primary = fits.PrimaryHDU()\n",
    "    image = fits.ImageHDU(x, name=\"IMAGE\")\n",
    "    table_data = Table.from_pandas(data)\n",
    "    table = fits.BinTableHDU(data = table_data)\n",
    "    hdu_list = fits.HDUList([primary, image, table])\n",
    "    hdu_list.writeto(name + '.fits', overwrite=True)   \n",
    "    hdu_list.close()\n"
   ]
  },
  {
   "cell_type": "code",
   "execution_count": 4,
   "id": "9cf50d94",
   "metadata": {
    "scrolled": false
   },
   "outputs": [
    {
     "name": "stdout",
     "output_type": "stream",
     "text": [
      "2310 2310\n"
     ]
    }
   ],
   "source": [
    "# Saving all training images into one pdf (not including known strong lenses)\n",
    "names = ['Single', 'Ring', 'Smooth', 'Companions', 'SDSS_Spirals', 'DES_Spirals', 'Crowded',\n",
    "        'Most_negatives'] #'Double'\n",
    "file_path = '/Users/jimenagonzalez/research/DSPL/SpaceWarps_Inspection/training_sample/coadds/'\n",
    "numpix = 45\n",
    "images_save = np.zeros((1,3,numpix,numpix))\n",
    "data_save = pd.DataFrame(columns = ['new_id', 'class'])\n",
    "\n",
    "for k in range(len(names)):\n",
    "    if(names[k] == 'DES_Spirals' or names[k] == 'SDSS_Spirals'): \n",
    "        num = 165\n",
    "    else:\n",
    "        num = 330\n",
    "        \n",
    "    hdu_list = fits.open(file_path + 'new_ids_' + names[k] + '.fits')\n",
    "    images = hdu_list[1].data\n",
    "    data = pd.DataFrame(hdu_list[2].data)\n",
    "    data = data.astype({'new_id': int})\n",
    "    hdu_list.close()\n",
    "    \n",
    "    remove = pd.read_csv(file_path + 'remove_' + names[k] + '.csv', dtype = {'id': int})\n",
    "    data = data.drop(remove['id'])\n",
    "    \n",
    "    images = images[data.index][0:num]\n",
    "    data = data.iloc[0:num]\n",
    "    group_list = [names[k]]*num\n",
    "    data['class'] = group_list\n",
    "    \n",
    "    images_save = np.append(images_save, images, axis = 0)\n",
    "    data_save = data_save.append(data)\n",
    "    \n",
    "    #make_plot_all(images, data, 9, 42, (0, 0, 0))\n",
    "\n",
    "images_save = np.delete(images_save, 0, axis = 0)\n",
    "print(len(images_save), len(data_save))"
   ]
  },
  {
   "cell_type": "code",
   "execution_count": 5,
   "id": "12cc670b",
   "metadata": {},
   "outputs": [
    {
     "data": {
      "text/html": [
       "<div>\n",
       "<style scoped>\n",
       "    .dataframe tbody tr th:only-of-type {\n",
       "        vertical-align: middle;\n",
       "    }\n",
       "\n",
       "    .dataframe tbody tr th {\n",
       "        vertical-align: top;\n",
       "    }\n",
       "\n",
       "    .dataframe thead th {\n",
       "        text-align: right;\n",
       "    }\n",
       "</style>\n",
       "<table border=\"1\" class=\"dataframe\">\n",
       "  <thead>\n",
       "    <tr style=\"text-align: right;\">\n",
       "      <th></th>\n",
       "      <th>new_id</th>\n",
       "      <th>class</th>\n",
       "    </tr>\n",
       "  </thead>\n",
       "  <tbody>\n",
       "    <tr>\n",
       "      <th>1</th>\n",
       "      <td>1</td>\n",
       "      <td>Single</td>\n",
       "    </tr>\n",
       "    <tr>\n",
       "      <th>2</th>\n",
       "      <td>2</td>\n",
       "      <td>Single</td>\n",
       "    </tr>\n",
       "    <tr>\n",
       "      <th>3</th>\n",
       "      <td>3</td>\n",
       "      <td>Single</td>\n",
       "    </tr>\n",
       "    <tr>\n",
       "      <th>4</th>\n",
       "      <td>4</td>\n",
       "      <td>Single</td>\n",
       "    </tr>\n",
       "    <tr>\n",
       "      <th>6</th>\n",
       "      <td>6</td>\n",
       "      <td>Single</td>\n",
       "    </tr>\n",
       "    <tr>\n",
       "      <th>...</th>\n",
       "      <td>...</td>\n",
       "      <td>...</td>\n",
       "    </tr>\n",
       "    <tr>\n",
       "      <th>374</th>\n",
       "      <td>374</td>\n",
       "      <td>Most_negatives</td>\n",
       "    </tr>\n",
       "    <tr>\n",
       "      <th>375</th>\n",
       "      <td>375</td>\n",
       "      <td>Most_negatives</td>\n",
       "    </tr>\n",
       "    <tr>\n",
       "      <th>376</th>\n",
       "      <td>376</td>\n",
       "      <td>Most_negatives</td>\n",
       "    </tr>\n",
       "    <tr>\n",
       "      <th>377</th>\n",
       "      <td>377</td>\n",
       "      <td>Most_negatives</td>\n",
       "    </tr>\n",
       "    <tr>\n",
       "      <th>378</th>\n",
       "      <td>378</td>\n",
       "      <td>Most_negatives</td>\n",
       "    </tr>\n",
       "  </tbody>\n",
       "</table>\n",
       "<p>2310 rows × 2 columns</p>\n",
       "</div>"
      ],
      "text/plain": [
       "    new_id           class\n",
       "1        1          Single\n",
       "2        2          Single\n",
       "3        3          Single\n",
       "4        4          Single\n",
       "6        6          Single\n",
       "..     ...             ...\n",
       "374    374  Most_negatives\n",
       "375    375  Most_negatives\n",
       "376    376  Most_negatives\n",
       "377    377  Most_negatives\n",
       "378    378  Most_negatives\n",
       "\n",
       "[2310 rows x 2 columns]"
      ]
     },
     "execution_count": 5,
     "metadata": {},
     "output_type": "execute_result"
    }
   ],
   "source": [
    "data_save"
   ]
  },
  {
   "cell_type": "code",
   "execution_count": 6,
   "id": "43337847",
   "metadata": {},
   "outputs": [
    {
     "name": "stdout",
     "output_type": "stream",
     "text": [
      "152\n",
      "2462 2462\n"
     ]
    }
   ],
   "source": [
    "# Adding the train sample of known catalogs: Jacobs\n",
    "hdu_list = fits.open('real_lenses/Jacobs_train.fits')\n",
    "images_jacobs = hdu_list[1].data\n",
    "data_jacobs = hdu_list[2].data\n",
    "data_jacobs = Table(data_jacobs)\n",
    "data_jacobs = data_jacobs.to_pandas()\n",
    "hdu_list.close()\n",
    "\n",
    "data_tmp = pd.DataFrame(columns = data_save.columns)\n",
    "data_tmp['new_id'] = range(0, len(images_jacobs))\n",
    "data_tmp['class'] = ['Known_jacobs']*len(images_jacobs)\n",
    "\n",
    "images_save = np.append(images_save, images_jacobs, axis = 0)\n",
    "data_save = data_save.append(data_tmp)\n",
    "\n",
    "print(len(images_jacobs))\n",
    "print(len(images_save), len(data_save))"
   ]
  },
  {
   "cell_type": "code",
   "execution_count": 7,
   "id": "e989c884",
   "metadata": {},
   "outputs": [
    {
     "name": "stdout",
     "output_type": "stream",
     "text": [
      "48\n",
      "2510 2510\n"
     ]
    }
   ],
   "source": [
    "# Adding the train sample of known catalogs: O'Donnell\n",
    "hdu_list = fits.open('real_lenses/Jack_train.fits')\n",
    "images_jacobs = hdu_list[1].data\n",
    "data_jacobs = hdu_list[2].data\n",
    "data_jacobs = Table(data_jacobs)\n",
    "data_jacobs = data_jacobs.to_pandas()\n",
    "hdu_list.close()\n",
    "\n",
    "data_tmp = pd.DataFrame(columns = data_save.columns)\n",
    "data_tmp['new_id'] = range(0, len(images_jacobs))\n",
    "data_tmp['class'] = ['Known_jack']*len(images_jacobs)\n",
    "\n",
    "images_save = np.append(images_save, images_jacobs, axis = 0)\n",
    "data_save = data_save.append(data_tmp)\n",
    "\n",
    "print(len(images_jacobs))\n",
    "print(len(images_save), len(data_save))"
   ]
  },
  {
   "cell_type": "code",
   "execution_count": 8,
   "id": "6bdddce1",
   "metadata": {},
   "outputs": [],
   "source": [
    "write_fit_file('complete_training_sample', images_save, data_save)"
   ]
  }
 ],
 "metadata": {
  "kernelspec": {
   "display_name": "Python 3 (ipykernel)",
   "language": "python",
   "name": "python3"
  },
  "language_info": {
   "codemirror_mode": {
    "name": "ipython",
    "version": 3
   },
   "file_extension": ".py",
   "mimetype": "text/x-python",
   "name": "python",
   "nbconvert_exporter": "python",
   "pygments_lexer": "ipython3",
   "version": "3.7.13"
  }
 },
 "nbformat": 4,
 "nbformat_minor": 5
}
