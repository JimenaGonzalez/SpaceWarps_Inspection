{
 "cells": [
  {
   "cell_type": "code",
   "execution_count": 1,
   "id": "8c07feab",
   "metadata": {},
   "outputs": [],
   "source": [
    "import numpy as np\n",
    "import pandas as pd\n",
    "\n",
    "import random\n",
    "import os\n",
    "from astropy.io import fits\n",
    "from astropy.table import Table\n",
    "\n",
    "import matplotlib.pyplot as plt\n",
    "from astropy.visualization import make_lupton_rgb\n",
    "plt.style.use('dark_background')"
   ]
  },
  {
   "cell_type": "code",
   "execution_count": 2,
   "id": "16b805fc",
   "metadata": {},
   "outputs": [],
   "source": [
    "def write_fit_file(name, x, data, catalog):\n",
    "    if(catalog == 'Jacobs'):\n",
    "        my_types = {'COADD_OBJECT_ID': int, 'TILENAME': str, 'HPIX_16384': int, 'HPIX_4096': int,\n",
    "       'DNF_ZMEAN_SOF': float, 'RA': float, 'DEC': float, 'grade': float, 'photoz': float, 'imag': float,\n",
    "       'FLUX_RADIUS_G': float, 'FLUX_RADIUS_R': float, 'FLUX_RADIUS_I': float, 'FLUX_RADIUS_Z': float,\n",
    "       'KRON_RADIUS': float, 'GAP_FLUX_G': float, 'MOF_BDF_FLUX_G': float, 'MOF_PSF_FLUX_G': float,\n",
    "       'SOF_BDF_FLUX_G': float, 'SOF_PSF_FLUX_G': float, 'MAG_AUTO_G': float, 'MAG_APER_4_G': float,\n",
    "       'MAG_APER_8_G': float, 'SOF_BDF_G_1': float, 'SOF_BDF_G_2': float, 'IMAFLAGS_ISO_G': int,\n",
    "       'IMAFLAGS_ISO_R': int, 'IMAFLAGS_ISO_I': int, 'IMAFLAGS_ISO_Z': int, 'Candidate': str,\n",
    "       'objectid': int}\n",
    "    else:\n",
    "        my_types = {'COADD_OBJECT_ID': int, 'TILENAME': str, 'HPIX_16384': int, 'HPIX_4096': int,\n",
    "       'DNF_ZMEAN_SOF': float, 'RA': float, 'DEC': float, 'FLUX_RADIUS_G': float, 'FLUX_RADIUS_R': float,\n",
    "       'FLUX_RADIUS_I': float, 'FLUX_RADIUS_Z': float, 'KRON_RADIUS': float, 'GAP_FLUX_G': float,\n",
    "       'MOF_BDF_FLUX_G': float, 'MOF_PSF_FLUX_G': float, 'SOF_BDF_FLUX_G': float, 'SOF_PSF_FLUX_G': float,\n",
    "       'MAG_AUTO_G': float, 'MAG_APER_4_G': float, 'MAG_APER_8_G': float, 'SOF_BDF_G_1': float,\n",
    "       'SOF_BDF_G_2': float, 'IMAFLAGS_ISO_G': int, 'IMAFLAGS_ISO_R': int, 'IMAFLAGS_ISO_I': int,\n",
    "       'IMAFLAGS_ISO_Z': int, 'rank': float, 'num_sources': float, 'num_lenses': float, 'mem_match_id': float,\n",
    "       'einstein_radius': float, 'einstein_radius_err': float, 'ACT': int, 'BBNA': int, 'BNA': int, 'TI': int,\n",
    "       'RNA': int, 'RNA2': int, 'redM': int, 'redM_missed': int, 'SPTPol': int}\n",
    "    data = data.astype(my_types)\n",
    "    \n",
    "    primary = fits.PrimaryHDU()\n",
    "    image = fits.ImageHDU(x, name=\"IMAGE\")\n",
    "    table_data = Table.from_pandas(data)\n",
    "    table = fits.BinTableHDU(data = table_data)\n",
    "    hdu_list = fits.HDUList([primary, image, table])\n",
    "    hdu_list.writeto('real_lenses/' + name + '.fits', overwrite=True)   \n",
    "    hdu_list.close()"
   ]
  },
  {
   "cell_type": "code",
   "execution_count": 3,
   "id": "f6f91b3c",
   "metadata": {},
   "outputs": [
    {
     "name": "stdout",
     "output_type": "stream",
     "text": [
      "All sample:  496\n",
      "With lensing features inside of cutout:  457\n",
      "152 228\n"
     ]
    }
   ],
   "source": [
    "# Adding some examples of known catalogs: Jacobs\n",
    "path_cutouts = '/Users/jimenagonzalez/research/DSPL/Searching-double-lenses/real_lenses/Jacobs_Y6/'\n",
    "\n",
    "hdu_list = fits.open(path_cutouts + 'Cutouts/Jacobs_Y6.fits')\n",
    "images = hdu_list[1].data.astype(np.float32)\n",
    "data = hdu_list[2].data\n",
    "data = Table(data)\n",
    "data = data.to_pandas()\n",
    "hdu_list.close()\n",
    "print('All sample: ', len(images))\n",
    "\n",
    "data_not = pd.read_csv(path_cutouts + 'not_in_cutouts.csv')\n",
    "data_not = data_not.astype({'COADD_OBJECT_ID': int})\n",
    "\n",
    "new_data = pd.merge(data, data_not, indicator=True, how='outer').query('_merge==\"left_only\"').drop('_merge', axis=1)\n",
    "images = images[new_data.index]\n",
    "data = data.iloc[new_data.index].reset_index(drop=True)\n",
    "\n",
    "print('With lensing features inside of cutout: ', len(images))\n",
    "\n",
    "\n",
    "#Saving a sample for training and other for testing\n",
    "n_train = 152\n",
    "idx = random.sample(range(len(data)), n_train)\n",
    "images_train = images[idx]\n",
    "data_train = data.iloc[idx]\n",
    "write_fit_file('Jacobs_train', images_train, data_train, 'Jacobs')\n",
    "\n",
    "n_test = 228\n",
    "data_test = data.drop(idx).sample(n_test)\n",
    "images_test = images[data_test.index]\n",
    "write_fit_file('Jacobs_test', images_test, data_test, 'Jacobs')\n",
    "\n",
    "print(len(data_train), len(data_test))"
   ]
  },
  {
   "cell_type": "code",
   "execution_count": 4,
   "id": "79b29b90",
   "metadata": {},
   "outputs": [
    {
     "name": "stdout",
     "output_type": "stream",
     "text": [
      "All sample:  246\n",
      "With lensing features inside of cutout:  140\n",
      "48 72\n"
     ]
    }
   ],
   "source": [
    "# Adding some examples of known catalogs: O'Donnell\n",
    "path_cutouts = '/Users/jimenagonzalez/research/DSPL/Searching-double-lenses/real_lenses/Jack_Y6/'\n",
    "\n",
    "hdu_list = fits.open(path_cutouts + 'Cutouts/Jack_Y6.fits')\n",
    "images = hdu_list[1].data.astype(np.float32)\n",
    "data = hdu_list[2].data\n",
    "data = Table(data)\n",
    "data = data.to_pandas()\n",
    "hdu_list.close()\n",
    "print('All sample: ', len(images))\n",
    "\n",
    "\n",
    "data_not = pd.read_csv(path_cutouts + 'not_in_cutouts.csv')\n",
    "data_not = data_not.astype({'COADD_OBJECT_ID': int})\n",
    "\n",
    "new_data = pd.merge(data, data_not, indicator=True, how='outer').query('_merge==\"left_only\"').drop('_merge', axis=1)\n",
    "images = images[new_data.index]\n",
    "data = data.iloc[new_data.index].reset_index(drop=True)\n",
    "\n",
    "print('With lensing features inside of cutout: ', len(images))\n",
    "\n",
    "#Saving a sample for training and other for testing\n",
    "n_train = 48\n",
    "idx = random.sample(range(len(data)), n_train)\n",
    "images_train = images[idx]\n",
    "data_train = data.iloc[idx]\n",
    "write_fit_file('Jack_train', images_train, data_train, 'Jack')\n",
    "\n",
    "n_test = 72\n",
    "data_test = data.drop(idx).sample(n_test)\n",
    "images_test = images[data_test.index]\n",
    "write_fit_file('Jack_test', images_test, data_test, 'Jack')\n",
    "\n",
    "print(len(data_train), len(data_test))"
   ]
  }
 ],
 "metadata": {
  "kernelspec": {
   "display_name": "Python 3 (ipykernel)",
   "language": "python",
   "name": "python3"
  },
  "language_info": {
   "codemirror_mode": {
    "name": "ipython",
    "version": 3
   },
   "file_extension": ".py",
   "mimetype": "text/x-python",
   "name": "python",
   "nbconvert_exporter": "python",
   "pygments_lexer": "ipython3",
   "version": "3.7.13"
  }
 },
 "nbformat": 4,
 "nbformat_minor": 5
}
